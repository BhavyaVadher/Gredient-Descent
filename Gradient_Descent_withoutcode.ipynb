{
  "cells": [
    {
      "cell_type": "markdown",
      "metadata": {
        "id": "fHsnfUE9jbzP"
      },
      "source": [
        "# <center><u> **`Gradient Descent`**</u> </center>"
      ]
    },
    {
      "cell_type": "markdown",
      "metadata": {
        "id": "ps-SgPeojbzU"
      },
      "source": [
        "Optimization is a big part of machine learning. Almost every machine learning algorithm has an optimization algorithm at it’s core.Gradient descent is an optimization algorithm used `to find the values of parameters (coefficients) of a function (f) that minimizes a cost function (cost).`\n",
        "\n",
        "Gradient descent is best used when the parameters cannot be calculated analytically (e.g. using linear algebra) and must be searched for by an optimization algorithm.\n",
        "\n",
        "\n",
        "In this assignment we will go through an example of implementing **Gradient Descent** in simple and multiple linear regression, for this we will be using housing dataset."
      ]
    },
    {
      "cell_type": "code",
      "execution_count": 1,
      "metadata": {
        "id": "poaWZLrajbzV",
        "outputId": "9e0001a3-6de8-4ff0-9faf-59512e26e9a4"
      },
      "outputs": [
        {
          "data": {
            "text/html": [
              "<div>\n",
              "<style scoped>\n",
              "    .dataframe tbody tr th:only-of-type {\n",
              "        vertical-align: middle;\n",
              "    }\n",
              "\n",
              "    .dataframe tbody tr th {\n",
              "        vertical-align: top;\n",
              "    }\n",
              "\n",
              "    .dataframe thead th {\n",
              "        text-align: right;\n",
              "    }\n",
              "</style>\n",
              "<table border=\"1\" class=\"dataframe\">\n",
              "  <thead>\n",
              "    <tr style=\"text-align: right;\">\n",
              "      <th></th>\n",
              "      <th>price</th>\n",
              "      <th>area</th>\n",
              "      <th>bedrooms</th>\n",
              "      <th>bathrooms</th>\n",
              "      <th>stories</th>\n",
              "      <th>mainroad</th>\n",
              "      <th>guestroom</th>\n",
              "      <th>basement</th>\n",
              "      <th>hotwaterheating</th>\n",
              "      <th>airconditioning</th>\n",
              "      <th>parking</th>\n",
              "      <th>prefarea</th>\n",
              "      <th>furnishingstatus</th>\n",
              "    </tr>\n",
              "  </thead>\n",
              "  <tbody>\n",
              "    <tr>\n",
              "      <th>0</th>\n",
              "      <td>13300000</td>\n",
              "      <td>7420</td>\n",
              "      <td>4</td>\n",
              "      <td>2</td>\n",
              "      <td>3</td>\n",
              "      <td>yes</td>\n",
              "      <td>no</td>\n",
              "      <td>no</td>\n",
              "      <td>no</td>\n",
              "      <td>yes</td>\n",
              "      <td>2</td>\n",
              "      <td>yes</td>\n",
              "      <td>furnished</td>\n",
              "    </tr>\n",
              "    <tr>\n",
              "      <th>1</th>\n",
              "      <td>12250000</td>\n",
              "      <td>8960</td>\n",
              "      <td>4</td>\n",
              "      <td>4</td>\n",
              "      <td>4</td>\n",
              "      <td>yes</td>\n",
              "      <td>no</td>\n",
              "      <td>no</td>\n",
              "      <td>no</td>\n",
              "      <td>yes</td>\n",
              "      <td>3</td>\n",
              "      <td>no</td>\n",
              "      <td>furnished</td>\n",
              "    </tr>\n",
              "    <tr>\n",
              "      <th>2</th>\n",
              "      <td>12250000</td>\n",
              "      <td>9960</td>\n",
              "      <td>3</td>\n",
              "      <td>2</td>\n",
              "      <td>2</td>\n",
              "      <td>yes</td>\n",
              "      <td>no</td>\n",
              "      <td>yes</td>\n",
              "      <td>no</td>\n",
              "      <td>no</td>\n",
              "      <td>2</td>\n",
              "      <td>yes</td>\n",
              "      <td>semi-furnished</td>\n",
              "    </tr>\n",
              "    <tr>\n",
              "      <th>3</th>\n",
              "      <td>12215000</td>\n",
              "      <td>7500</td>\n",
              "      <td>4</td>\n",
              "      <td>2</td>\n",
              "      <td>2</td>\n",
              "      <td>yes</td>\n",
              "      <td>no</td>\n",
              "      <td>yes</td>\n",
              "      <td>no</td>\n",
              "      <td>yes</td>\n",
              "      <td>3</td>\n",
              "      <td>yes</td>\n",
              "      <td>furnished</td>\n",
              "    </tr>\n",
              "    <tr>\n",
              "      <th>4</th>\n",
              "      <td>11410000</td>\n",
              "      <td>7420</td>\n",
              "      <td>4</td>\n",
              "      <td>1</td>\n",
              "      <td>2</td>\n",
              "      <td>yes</td>\n",
              "      <td>yes</td>\n",
              "      <td>yes</td>\n",
              "      <td>no</td>\n",
              "      <td>yes</td>\n",
              "      <td>2</td>\n",
              "      <td>no</td>\n",
              "      <td>furnished</td>\n",
              "    </tr>\n",
              "  </tbody>\n",
              "</table>\n",
              "</div>"
            ],
            "text/plain": [
              "      price  area  bedrooms  bathrooms  stories mainroad guestroom basement  \\\n",
              "0  13300000  7420         4          2        3      yes        no       no   \n",
              "1  12250000  8960         4          4        4      yes        no       no   \n",
              "2  12250000  9960         3          2        2      yes        no      yes   \n",
              "3  12215000  7500         4          2        2      yes        no      yes   \n",
              "4  11410000  7420         4          1        2      yes       yes      yes   \n",
              "\n",
              "  hotwaterheating airconditioning  parking prefarea furnishingstatus  \n",
              "0              no             yes        2      yes        furnished  \n",
              "1              no             yes        3       no        furnished  \n",
              "2              no              no        2      yes   semi-furnished  \n",
              "3              no             yes        3      yes        furnished  \n",
              "4              no             yes        2       no        furnished  "
            ]
          },
          "execution_count": 1,
          "metadata": {},
          "output_type": "execute_result"
        }
      ],
      "source": [
        "#Importing pandas \n",
        "import pandas as pd\n",
        "\n",
        "#Importing pandas\n",
        "import numpy as np\n",
        "\n",
        "\n",
        "# read Housing dataset\n",
        "housing = pd.read_csv('Housing.csv')\n",
        "\n",
        "#print head\n",
        "housing.head()\n"
      ]
    },
    {
      "cell_type": "code",
      "execution_count": 2,
      "metadata": {
        "id": "9iDui0-EjbzW",
        "outputId": "3949861c-fe56-42ab-8cd7-898278cceb6b"
      },
      "outputs": [
        {
          "name": "stdout",
          "output_type": "stream",
          "text": [
            "<class 'pandas.core.frame.DataFrame'>\n",
            "RangeIndex: 545 entries, 0 to 544\n",
            "Data columns (total 13 columns):\n",
            " #   Column            Non-Null Count  Dtype \n",
            "---  ------            --------------  ----- \n",
            " 0   price             545 non-null    int64 \n",
            " 1   area              545 non-null    int64 \n",
            " 2   bedrooms          545 non-null    int64 \n",
            " 3   bathrooms         545 non-null    int64 \n",
            " 4   stories           545 non-null    int64 \n",
            " 5   mainroad          545 non-null    object\n",
            " 6   guestroom         545 non-null    object\n",
            " 7   basement          545 non-null    object\n",
            " 8   hotwaterheating   545 non-null    object\n",
            " 9   airconditioning   545 non-null    object\n",
            " 10  parking           545 non-null    int64 \n",
            " 11  prefarea          545 non-null    object\n",
            " 12  furnishingstatus  545 non-null    object\n",
            "dtypes: int64(6), object(7)\n",
            "memory usage: 55.5+ KB\n"
          ]
        }
      ],
      "source": [
        "# print non null counts and dtype\n",
        "housing.info()\n"
      ]
    },
    {
      "cell_type": "code",
      "execution_count": 3,
      "metadata": {
        "id": "HPdByedOjbzX"
      },
      "outputs": [],
      "source": [
        "# Converting object columns having yes and no value count with Yes and No values (Yes to 1 and No to 0)\n",
        "housing[\"mainroad\"]=housing[\"mainroad\"].map({'yes':1,'no':0})\n",
        "housing[\"basement\"]=housing[\"basement\"].map({'yes':1,'no':0})\n",
        "housing[\"guestroom\"]=housing[\"guestroom\"].map({'yes':1,'no':0})\n",
        "housing[\"hotwaterheating\"]=housing[\"hotwaterheating\"].map({'yes':1,'no':0})\n",
        "housing[\"airconditioning\"]=housing[\"airconditioning\"].map({'yes':1,'no':0})\n",
        "housing[\"prefarea\"]=housing[\"prefarea\"].map({'yes':1,'no':0})"
      ]
    },
    {
      "cell_type": "code",
      "execution_count": 4,
      "metadata": {
        "id": "9e4EHPnGjbzX"
      },
      "outputs": [],
      "source": [
        "#Converting furnishingstatus column to binary column using get_dummies\n",
        "status = pd.get_dummies(housing[\"furnishingstatus\"],drop_first=True)\n",
        "\n",
        "\n",
        "\n",
        "#concat housing and status \n",
        "housing = pd.concat([housing,status],axis=1)\n",
        "\n",
        "#drop furnishingstatus columns from housing\n",
        "housing.drop([\"furnishingstatus\"],axis=1,inplace=True)\n",
        "\n"
      ]
    },
    {
      "cell_type": "code",
      "execution_count": 5,
      "metadata": {
        "id": "fm6KLh9vjbzY",
        "outputId": "2acc6916-0f04-47b7-d8fa-f6be1e191991"
      },
      "outputs": [
        {
          "data": {
            "text/html": [
              "<div>\n",
              "<style scoped>\n",
              "    .dataframe tbody tr th:only-of-type {\n",
              "        vertical-align: middle;\n",
              "    }\n",
              "\n",
              "    .dataframe tbody tr th {\n",
              "        vertical-align: top;\n",
              "    }\n",
              "\n",
              "    .dataframe thead th {\n",
              "        text-align: right;\n",
              "    }\n",
              "</style>\n",
              "<table border=\"1\" class=\"dataframe\">\n",
              "  <thead>\n",
              "    <tr style=\"text-align: right;\">\n",
              "      <th></th>\n",
              "      <th>price</th>\n",
              "      <th>area</th>\n",
              "      <th>bedrooms</th>\n",
              "      <th>bathrooms</th>\n",
              "      <th>stories</th>\n",
              "      <th>mainroad</th>\n",
              "      <th>guestroom</th>\n",
              "      <th>basement</th>\n",
              "      <th>hotwaterheating</th>\n",
              "      <th>airconditioning</th>\n",
              "      <th>parking</th>\n",
              "      <th>prefarea</th>\n",
              "      <th>semi-furnished</th>\n",
              "      <th>unfurnished</th>\n",
              "    </tr>\n",
              "  </thead>\n",
              "  <tbody>\n",
              "    <tr>\n",
              "      <th>0</th>\n",
              "      <td>13300000</td>\n",
              "      <td>7420</td>\n",
              "      <td>4</td>\n",
              "      <td>2</td>\n",
              "      <td>3</td>\n",
              "      <td>1</td>\n",
              "      <td>0</td>\n",
              "      <td>0</td>\n",
              "      <td>0</td>\n",
              "      <td>1</td>\n",
              "      <td>2</td>\n",
              "      <td>1</td>\n",
              "      <td>0</td>\n",
              "      <td>0</td>\n",
              "    </tr>\n",
              "    <tr>\n",
              "      <th>1</th>\n",
              "      <td>12250000</td>\n",
              "      <td>8960</td>\n",
              "      <td>4</td>\n",
              "      <td>4</td>\n",
              "      <td>4</td>\n",
              "      <td>1</td>\n",
              "      <td>0</td>\n",
              "      <td>0</td>\n",
              "      <td>0</td>\n",
              "      <td>1</td>\n",
              "      <td>3</td>\n",
              "      <td>0</td>\n",
              "      <td>0</td>\n",
              "      <td>0</td>\n",
              "    </tr>\n",
              "    <tr>\n",
              "      <th>2</th>\n",
              "      <td>12250000</td>\n",
              "      <td>9960</td>\n",
              "      <td>3</td>\n",
              "      <td>2</td>\n",
              "      <td>2</td>\n",
              "      <td>1</td>\n",
              "      <td>0</td>\n",
              "      <td>1</td>\n",
              "      <td>0</td>\n",
              "      <td>0</td>\n",
              "      <td>2</td>\n",
              "      <td>1</td>\n",
              "      <td>1</td>\n",
              "      <td>0</td>\n",
              "    </tr>\n",
              "    <tr>\n",
              "      <th>3</th>\n",
              "      <td>12215000</td>\n",
              "      <td>7500</td>\n",
              "      <td>4</td>\n",
              "      <td>2</td>\n",
              "      <td>2</td>\n",
              "      <td>1</td>\n",
              "      <td>0</td>\n",
              "      <td>1</td>\n",
              "      <td>0</td>\n",
              "      <td>1</td>\n",
              "      <td>3</td>\n",
              "      <td>1</td>\n",
              "      <td>0</td>\n",
              "      <td>0</td>\n",
              "    </tr>\n",
              "    <tr>\n",
              "      <th>4</th>\n",
              "      <td>11410000</td>\n",
              "      <td>7420</td>\n",
              "      <td>4</td>\n",
              "      <td>1</td>\n",
              "      <td>2</td>\n",
              "      <td>1</td>\n",
              "      <td>1</td>\n",
              "      <td>1</td>\n",
              "      <td>0</td>\n",
              "      <td>1</td>\n",
              "      <td>2</td>\n",
              "      <td>0</td>\n",
              "      <td>0</td>\n",
              "      <td>0</td>\n",
              "    </tr>\n",
              "  </tbody>\n",
              "</table>\n",
              "</div>"
            ],
            "text/plain": [
              "      price  area  bedrooms  bathrooms  stories  mainroad  guestroom  \\\n",
              "0  13300000  7420         4          2        3         1          0   \n",
              "1  12250000  8960         4          4        4         1          0   \n",
              "2  12250000  9960         3          2        2         1          0   \n",
              "3  12215000  7500         4          2        2         1          0   \n",
              "4  11410000  7420         4          1        2         1          1   \n",
              "\n",
              "   basement  hotwaterheating  airconditioning  parking  prefarea  \\\n",
              "0         0                0                1        2         1   \n",
              "1         0                0                1        3         0   \n",
              "2         1                0                0        2         1   \n",
              "3         1                0                1        3         1   \n",
              "4         1                0                1        2         0   \n",
              "\n",
              "   semi-furnished  unfurnished  \n",
              "0               0            0  \n",
              "1               0            0  \n",
              "2               1            0  \n",
              "3               0            0  \n",
              "4               0            0  "
            ]
          },
          "execution_count": 5,
          "metadata": {},
          "output_type": "execute_result"
        }
      ],
      "source": [
        "# print head\n",
        "housing.head()"
      ]
    },
    {
      "cell_type": "markdown",
      "metadata": {
        "id": "LPUdwuAWjbzZ"
      },
      "source": [
        "#### **`Scaling (Normalization)`**\n",
        "\n",
        "![image.png](https://miro.medium.com/max/1400/1*bbZowuePbbu93KjYbSZRNw.jpeg)\n",
        "\n",
        "where:\n",
        "\n",
        "- μ is the mean of the population.\n",
        "- σ is the standard deviation of the population."
      ]
    },
    {
      "cell_type": "code",
      "execution_count": 6,
      "metadata": {
        "id": "xqaV4S-9jbzZ",
        "outputId": "4fbcff1b-e114-4519-be89-163c5cddc2ad"
      },
      "outputs": [
        {
          "data": {
            "text/html": [
              "<div>\n",
              "<style scoped>\n",
              "    .dataframe tbody tr th:only-of-type {\n",
              "        vertical-align: middle;\n",
              "    }\n",
              "\n",
              "    .dataframe tbody tr th {\n",
              "        vertical-align: top;\n",
              "    }\n",
              "\n",
              "    .dataframe thead th {\n",
              "        text-align: right;\n",
              "    }\n",
              "</style>\n",
              "<table border=\"1\" class=\"dataframe\">\n",
              "  <thead>\n",
              "    <tr style=\"text-align: right;\">\n",
              "      <th></th>\n",
              "      <th>price</th>\n",
              "      <th>area</th>\n",
              "      <th>bedrooms</th>\n",
              "      <th>bathrooms</th>\n",
              "      <th>stories</th>\n",
              "      <th>mainroad</th>\n",
              "      <th>guestroom</th>\n",
              "      <th>basement</th>\n",
              "      <th>hotwaterheating</th>\n",
              "      <th>airconditioning</th>\n",
              "      <th>parking</th>\n",
              "      <th>prefarea</th>\n",
              "      <th>semi-furnished</th>\n",
              "      <th>unfurnished</th>\n",
              "    </tr>\n",
              "  </thead>\n",
              "  <tbody>\n",
              "    <tr>\n",
              "      <th>0</th>\n",
              "      <td>4.562174</td>\n",
              "      <td>1.045766</td>\n",
              "      <td>1.402131</td>\n",
              "      <td>1.420507</td>\n",
              "      <td>1.376952</td>\n",
              "      <td>0.405251</td>\n",
              "      <td>-0.464888</td>\n",
              "      <td>-0.733865</td>\n",
              "      <td>-0.219063</td>\n",
              "      <td>1.471267</td>\n",
              "      <td>1.516299</td>\n",
              "      <td>1.803284</td>\n",
              "      <td>-0.844113</td>\n",
              "      <td>-0.69579</td>\n",
              "    </tr>\n",
              "    <tr>\n",
              "      <th>1</th>\n",
              "      <td>4.000809</td>\n",
              "      <td>1.755397</td>\n",
              "      <td>1.402131</td>\n",
              "      <td>5.400847</td>\n",
              "      <td>2.529700</td>\n",
              "      <td>0.405251</td>\n",
              "      <td>-0.464888</td>\n",
              "      <td>-0.733865</td>\n",
              "      <td>-0.219063</td>\n",
              "      <td>1.471267</td>\n",
              "      <td>2.676950</td>\n",
              "      <td>-0.553526</td>\n",
              "      <td>-0.844113</td>\n",
              "      <td>-0.69579</td>\n",
              "    </tr>\n",
              "    <tr>\n",
              "      <th>2</th>\n",
              "      <td>4.000809</td>\n",
              "      <td>2.216196</td>\n",
              "      <td>0.047235</td>\n",
              "      <td>1.420507</td>\n",
              "      <td>0.224204</td>\n",
              "      <td>0.405251</td>\n",
              "      <td>-0.464888</td>\n",
              "      <td>1.360148</td>\n",
              "      <td>-0.219063</td>\n",
              "      <td>-0.678439</td>\n",
              "      <td>1.516299</td>\n",
              "      <td>1.803284</td>\n",
              "      <td>1.182502</td>\n",
              "      <td>-0.69579</td>\n",
              "    </tr>\n",
              "    <tr>\n",
              "      <th>3</th>\n",
              "      <td>3.982096</td>\n",
              "      <td>1.082630</td>\n",
              "      <td>1.402131</td>\n",
              "      <td>1.420507</td>\n",
              "      <td>0.224204</td>\n",
              "      <td>0.405251</td>\n",
              "      <td>-0.464888</td>\n",
              "      <td>1.360148</td>\n",
              "      <td>-0.219063</td>\n",
              "      <td>1.471267</td>\n",
              "      <td>2.676950</td>\n",
              "      <td>1.803284</td>\n",
              "      <td>-0.844113</td>\n",
              "      <td>-0.69579</td>\n",
              "    </tr>\n",
              "    <tr>\n",
              "      <th>4</th>\n",
              "      <td>3.551716</td>\n",
              "      <td>1.045766</td>\n",
              "      <td>1.402131</td>\n",
              "      <td>-0.569663</td>\n",
              "      <td>0.224204</td>\n",
              "      <td>0.405251</td>\n",
              "      <td>2.147110</td>\n",
              "      <td>1.360148</td>\n",
              "      <td>-0.219063</td>\n",
              "      <td>1.471267</td>\n",
              "      <td>1.516299</td>\n",
              "      <td>-0.553526</td>\n",
              "      <td>-0.844113</td>\n",
              "      <td>-0.69579</td>\n",
              "    </tr>\n",
              "  </tbody>\n",
              "</table>\n",
              "</div>"
            ],
            "text/plain": [
              "      price      area  bedrooms  bathrooms   stories  mainroad  guestroom  \\\n",
              "0  4.562174  1.045766  1.402131   1.420507  1.376952  0.405251  -0.464888   \n",
              "1  4.000809  1.755397  1.402131   5.400847  2.529700  0.405251  -0.464888   \n",
              "2  4.000809  2.216196  0.047235   1.420507  0.224204  0.405251  -0.464888   \n",
              "3  3.982096  1.082630  1.402131   1.420507  0.224204  0.405251  -0.464888   \n",
              "4  3.551716  1.045766  1.402131  -0.569663  0.224204  0.405251   2.147110   \n",
              "\n",
              "   basement  hotwaterheating  airconditioning   parking  prefarea  \\\n",
              "0 -0.733865        -0.219063         1.471267  1.516299  1.803284   \n",
              "1 -0.733865        -0.219063         1.471267  2.676950 -0.553526   \n",
              "2  1.360148        -0.219063        -0.678439  1.516299  1.803284   \n",
              "3  1.360148        -0.219063         1.471267  2.676950  1.803284   \n",
              "4  1.360148        -0.219063         1.471267  1.516299 -0.553526   \n",
              "\n",
              "   semi-furnished  unfurnished  \n",
              "0       -0.844113     -0.69579  \n",
              "1       -0.844113     -0.69579  \n",
              "2        1.182502     -0.69579  \n",
              "3       -0.844113     -0.69579  \n",
              "4       -0.844113     -0.69579  "
            ]
          },
          "execution_count": 6,
          "metadata": {},
          "output_type": "execute_result"
        }
      ],
      "source": [
        "# Normalising Housing dataset using above formula\n",
        "housing = (housing - housing.mean())/housing.std()\n",
        "\n",
        "\n",
        "\n",
        "#print head \n",
        "housing.head()\n",
        "\n"
      ]
    },
    {
      "cell_type": "markdown",
      "metadata": {
        "id": "MTB8jEwX4juW"
      },
      "source": [
        "# **`WATCH VIDEOS IN THE PORTAL`**"
      ]
    },
    {
      "cell_type": "markdown",
      "metadata": {
        "id": "XA_b5gVHjbza"
      },
      "source": [
        "#### **`1. Gradient Descent in Simple Linear Regression`**\n",
        "\n",
        "Let us first make Simple linear regression. Fot this we will just take area as our feature and price as our predictor\n",
        "\n",
        "## **`Watch Video 1: Gradient Descent Intuition`**"
      ]
    },
    {
      "cell_type": "code",
      "execution_count": 7,
      "metadata": {
        "id": "zGLVe21vjbza"
      },
      "outputs": [],
      "source": [
        "# Assign feature variable X\n",
        "X = housing['area']\n",
        "\n",
        "\n",
        "\n",
        "# Assign response variable to y\n",
        "y = housing['price']\n",
        "\n"
      ]
    },
    {
      "cell_type": "code",
      "execution_count": 8,
      "metadata": {
        "id": "I13dtGoBjbzb"
      },
      "outputs": [],
      "source": [
        "# import seaborn and pyplot\n",
        "import seaborn as sns\n",
        "import matplotlib.pyplot as plt\n",
        "\n",
        "# Magic matplotlib inline for visualise in the notebook\n",
        "%matplotlib inline"
      ]
    },
    {
      "cell_type": "code",
      "execution_count": 9,
      "metadata": {
        "id": "z7Vbc0dnjbzb",
        "outputId": "bd2d52b3-af08-4e6a-b074-d4f3e62eb158"
      },
      "outputs": [
        {
          "data": {
            "image/png": "[encoded data removed]",
            "text/plain": [
              "<Figure size 500x500 with 6 Axes>"
            ]
          },
          "metadata": {},
          "output_type": "display_data"
        }
      ],
      "source": [
        "# Visualise the relationship between the features and the response using pairplots\n",
        "sns.pairplot(housing[['area','price']])\n",
        "plt.show()\n",
        "\n",
        "\n"
      ]
    },
    {
      "cell_type": "markdown",
      "metadata": {
        "id": "m45mqgfWjbzb"
      },
      "source": [
        "#### **`Steps to implement gradient Descent`**\n",
        "\n",
        "1. **We all know to define a linear relationship between these two variables as follows:**\n",
        "\n",
        "![image.png](attachment:image.png)\n",
        "\n",
        "This is the equation for a line that you studied in high school. m is the slope of the line and c is the y intercept. Today we will use this equation to train our model with a given dataset and predict the value of Y for any given value of X. Our challenge today is to determine the value of m and c, such that the line corresponding to those values is the best fitting line or gives the minimum error.\n",
        "\n",
        "\n",
        "2. **For linear regression we use a cost function known as the mean squared error or MSE.**"
      ]
    },
    {
      "cell_type": "markdown",
      "metadata": {
        "id": "8f6KfUtGjbzc"
      },
      "source": [
        "<img src=\"gd1.png\"/>\n",
        "\n",
        "The loss/cost is the error in our predicted value of m and c. Our goal is to minimize this error to obtain the most accurate value of m and c.\n",
        "So we square the error and find the mean. hence the name Mean Squared Error. Now that we have defined the loss function, lets get into the interesting part — minimizing it and finding m and c.\n",
        "\n",
        "3. **Gradient Descent**\n",
        "\n",
        "Now that we have defined the loss function, lets get into the interesting part — minimizing it and finding m and c.\n",
        "\n",
        "Gradient descent is an iterative optimization algorithm to find the minimum of a function. Here that function is our Loss Function.\n",
        "\n",
        "    3.1 Initially let m = 0 and c = 0. Let L be our learning rate. This controls how much the value of m changes with each step. L could be a small value like 0.0001 for good accuracy.\n",
        "\n"
      ]
    },
    {
      "cell_type": "markdown",
      "metadata": {
        "id": "pdYthiS3jbzc"
      },
      "source": [
        "    3.2. Now we will apply partial derivative with respect to m and c and will equate it to zero to find the least value of m and c for which our cost function get the lowest value as possible.**"
      ]
    },
    {
      "cell_type": "markdown",
      "metadata": {
        "id": "WMIIgYaujbzc"
      },
      "source": [
        "<img src=\"gd2.png\"/>\n",
        "\n",
        "    3.3  Now we update the current value of m and c using the following equation:\n",
        "\n",
        "![image.png](attachment:image.png)\n",
        "\n",
        "    3.4 We repeat this process until our loss function is a very small value or ideally 0 (which means 0 error or 100% accuracy). The value of m and c that we are left with now will be the optimum values."
      ]
    },
    {
      "cell_type": "markdown",
      "metadata": {
        "id": "g0Smhiwsjbzd"
      },
      "source": [
        "Now to apply gradient descent from scratch in python we need our X and y variables as numpy arrays, Let's convert them."
      ]
    },
    {
      "cell_type": "code",
      "execution_count": 10,
      "metadata": {
        "id": "WMpOduANjbzd"
      },
      "outputs": [],
      "source": [
        "# Convert X and y into numpy arrays\n",
        "X = np.array(X)\n",
        "\n",
        "y = np.array(y)\n"
      ]
    },
    {
      "cell_type": "code",
      "execution_count": 11,
      "metadata": {
        "id": "jK36XHFvjbzd"
      },
      "outputs": [],
      "source": [
        "# Initialising m=0\n",
        "m = 0\n",
        "\n",
        "#Initialising c=0\n",
        "c = 0\n",
        "\n",
        "# The learning Rate (here using 0.01)\n",
        "L = 0.01\n",
        "\n",
        "# The number of iterations to perform gradient descent\n",
        "epochs = 1000 \n",
        "\n",
        "# Number of elements in y\n",
        "n = float(len(y))\n",
        "\n",
        "# Create an empty dataframe gd_df with columns 'm_current', 'c_current' and 'cost'\n",
        "gd_df = pd.DataFrame(columns=['m_current','c_current','cost'])\n",
        "\n"
      ]
    },
    {
      "cell_type": "markdown",
      "metadata": {
        "id": "rP2Yg8Qxjbzd"
      },
      "source": [
        "Performing Gradient Descent "
      ]
    },
    {
      "cell_type": "code",
      "execution_count": 12,
      "metadata": {
        "id": "69Ap6zwsjbzd"
      },
      "outputs": [],
      "source": [
        "# iterate over range of epochs\n",
        "for i in range(epochs): \n",
        "    # The current predicted value of Y(which is m*x + c )\n",
        "    Y_pred = m*X + c\n",
        "    #Calculate cost according to formula \n",
        "    cost = sum([data**2 for data in (y-Y_pred)])/n\n",
        "    # Derivative w.r.t m\n",
        "    D_m =  (-2/n)*sum(X*((y-Y_pred)))\n",
        "     # Derivative w.r.t c\n",
        "    D_c =  (-2/n)*sum(((y-Y_pred)))\n",
        "    # Update m\n",
        "    m =  m - L * D_m\n",
        "    # Update c\n",
        "    c = c - L * D_c\n",
        "    #get m,c and cost value at each epochs in gd_df(use loc method to store in gd_df)\n",
        "    gd_df.loc[i] = [m,c,cost]\n",
        "    "
      ]
    },
    {
      "cell_type": "code",
      "execution_count": 13,
      "metadata": {
        "id": "0ubu1X9Ljbze",
        "outputId": "02627f90-ac8e-4bdf-b039-c9b6cf408c47"
      },
      "outputs": [
        {
          "data": {
            "text/html": [
              "<div>\n",
              "<style scoped>\n",
              "    .dataframe tbody tr th:only-of-type {\n",
              "        vertical-align: middle;\n",
              "    }\n",
              "\n",
              "    .dataframe tbody tr th {\n",
              "        vertical-align: top;\n",
              "    }\n",
              "\n",
              "    .dataframe thead th {\n",
              "        text-align: right;\n",
              "    }\n",
              "</style>\n",
              "<table border=\"1\" class=\"dataframe\">\n",
              "  <thead>\n",
              "    <tr style=\"text-align: right;\">\n",
              "      <th></th>\n",
              "      <th>m_current</th>\n",
              "      <th>c_current</th>\n",
              "      <th>cost</th>\n",
              "    </tr>\n",
              "  </thead>\n",
              "  <tbody>\n",
              "    <tr>\n",
              "      <th>0</th>\n",
              "      <td>0.010700</td>\n",
              "      <td>5.003133e-18</td>\n",
              "      <td>0.998165</td>\n",
              "    </tr>\n",
              "    <tr>\n",
              "      <th>1</th>\n",
              "      <td>0.021187</td>\n",
              "      <td>1.817099e-17</td>\n",
              "      <td>0.986830</td>\n",
              "    </tr>\n",
              "    <tr>\n",
              "      <th>2</th>\n",
              "      <td>0.031464</td>\n",
              "      <td>2.873135e-17</td>\n",
              "      <td>0.975943</td>\n",
              "    </tr>\n",
              "    <tr>\n",
              "      <th>3</th>\n",
              "      <td>0.041536</td>\n",
              "      <td>2.908988e-17</td>\n",
              "      <td>0.965486</td>\n",
              "    </tr>\n",
              "    <tr>\n",
              "      <th>4</th>\n",
              "      <td>0.051407</td>\n",
              "      <td>2.847060e-17</td>\n",
              "      <td>0.955442</td>\n",
              "    </tr>\n",
              "    <tr>\n",
              "      <th>...</th>\n",
              "      <td>...</td>\n",
              "      <td>...</td>\n",
              "      <td>...</td>\n",
              "    </tr>\n",
              "    <tr>\n",
              "      <th>995</th>\n",
              "      <td>0.535997</td>\n",
              "      <td>2.891876e-16</td>\n",
              "      <td>0.711399</td>\n",
              "    </tr>\n",
              "    <tr>\n",
              "      <th>996</th>\n",
              "      <td>0.535997</td>\n",
              "      <td>2.778450e-16</td>\n",
              "      <td>0.711399</td>\n",
              "    </tr>\n",
              "    <tr>\n",
              "      <th>997</th>\n",
              "      <td>0.535997</td>\n",
              "      <td>2.792873e-16</td>\n",
              "      <td>0.711399</td>\n",
              "    </tr>\n",
              "    <tr>\n",
              "      <th>998</th>\n",
              "      <td>0.535997</td>\n",
              "      <td>2.735101e-16</td>\n",
              "      <td>0.711399</td>\n",
              "    </tr>\n",
              "    <tr>\n",
              "      <th>999</th>\n",
              "      <td>0.535997</td>\n",
              "      <td>2.772257e-16</td>\n",
              "      <td>0.711399</td>\n",
              "    </tr>\n",
              "  </tbody>\n",
              "</table>\n",
              "<p>1000 rows × 3 columns</p>\n",
              "</div>"
            ],
            "text/plain": [
              "     m_current     c_current      cost\n",
              "0     0.010700  5.003133e-18  0.998165\n",
              "1     0.021187  1.817099e-17  0.986830\n",
              "2     0.031464  2.873135e-17  0.975943\n",
              "3     0.041536  2.908988e-17  0.965486\n",
              "4     0.051407  2.847060e-17  0.955442\n",
              "..         ...           ...       ...\n",
              "995   0.535997  2.891876e-16  0.711399\n",
              "996   0.535997  2.778450e-16  0.711399\n",
              "997   0.535997  2.792873e-16  0.711399\n",
              "998   0.535997  2.735101e-16  0.711399\n",
              "999   0.535997  2.772257e-16  0.711399\n",
              "\n",
              "[1000 rows x 3 columns]"
            ]
          },
          "execution_count": 13,
          "metadata": {},
          "output_type": "execute_result"
        }
      ],
      "source": [
        "# print gd_df\n",
        "gd_df"
      ]
    },
    {
      "cell_type": "code",
      "execution_count": 14,
      "metadata": {
        "id": "Z3slA3xVjbze",
        "outputId": "7e6e6bef-5f9b-454e-a1b3-6cabae17a362"
      },
      "outputs": [
        {
          "data": {
            "image/png": "[encoded data removed]",
            "text/plain": [
              "<Figure size 640x480 with 1 Axes>"
            ]
          },
          "metadata": {},
          "output_type": "display_data"
        }
      ],
      "source": [
        "# Making predictions\n",
        "Y_pred = m*X + c\n",
        "\n",
        "# Plotting parity plot as shown\n",
        "plt.scatter(X,y)\n",
        "plt.plot([min(X),max(X)],[min(Y_pred),max(Y_pred)],color='red')\n",
        "plt.show()"
      ]
    },
    {
      "cell_type": "code",
      "execution_count": 15,
      "metadata": {
        "id": "MUNcGgVNjbze",
        "outputId": "07c43199-6eeb-4a71-a71a-dfe6f2315b01"
      },
      "outputs": [
        {
          "data": {
            "image/png": "[encoded data removed]",
            "text/plain": [
              "<Figure size 640x480 with 1 Axes>"
            ]
          },
          "metadata": {},
          "output_type": "display_data"
        }
      ],
      "source": [
        "# plotting cost against num_iterations\n",
        "plt.plot(gd_df.index,gd_df['cost'])\n",
        "plt.show()\n",
        "\n"
      ]
    },
    {
      "cell_type": "markdown",
      "metadata": {
        "id": "jjnunNV4jbze"
      },
      "source": [
        "Above is a plot of all of the values for the cost function over the 1000 iterations that you should see. I think that 100 iterations or 100 epochs is a nice round number and a good place to stop, because in graph you can see that error becomes constant after 100th iteration. You could keep going if you wanted.\n",
        "\n"
      ]
    },
    {
      "cell_type": "code",
      "execution_count": 16,
      "metadata": {
        "id": "H5EuA471jbze",
        "outputId": "adee8030-b743-4cb5-f29a-67171f4b1000"
      },
      "outputs": [
        {
          "name": "stdout",
          "output_type": "stream",
          "text": [
            "0.5359973448415954\n",
            "2.772257449086021e-16\n"
          ]
        }
      ],
      "source": [
        "# print final m and c value\n",
        "print(m)\n",
        "print(c)\n"
      ]
    },
    {
      "cell_type": "markdown",
      "metadata": {
        "id": "z_fyMpO2jbzf"
      },
      "source": [
        "Hence optimum slope/weight would be 0.53 and intercept/bias would be 2.66. This value would reduce the error and gives the best fit line for simple linear regression problem."
      ]
    },
    {
      "cell_type": "markdown",
      "metadata": {
        "id": "392RV1G0jbzf"
      },
      "source": [
        "### Multiple Regression: Applying Gradient Descent for Multiple (>1) Features\n",
        "\n",
        "Now you know how to optimize simple linear regression. Lets try it for multiple linear regression.\n",
        "\n",
        "If we have multiple independent variables, the formula for linear regression will look like:\n",
        "\n",
        "![image.png](attachment:image.png)\n",
        "\n",
        "Here, ‘h’ is called the hypothesis. This is the predicted output variable. Theta0 is the bias term and all the other theta values are coefficients. They are initiated randomly in the beginning, then optimized with the algorithm so that this formula can predict the dependent variable closely.\n",
        "\n",
        "We will first try with only 2 input variable i.e area and bedrooms"
      ]
    },
    {
      "cell_type": "code",
      "execution_count": 17,
      "metadata": {
        "id": "gOjAOUSCjbzf"
      },
      "outputs": [],
      "source": [
        "# Assigning feature variable X (with area and bedroom)\n",
        "X = housing[['area','bedrooms']]\n",
        "\n",
        "# Assigning response variable y (price)\n",
        "y = housing['price']"
      ]
    },
    {
      "cell_type": "markdown",
      "metadata": {
        "id": "imXo1EeTjbzf"
      },
      "source": [
        "1. Add a column of ones for the bias term. I chose 1 because if you multiply one with any value, that value does not change.\n",
        "\n",
        "The intercept column is needed for convenient matrix representation of cost function\n"
      ]
    },
    {
      "cell_type": "code",
      "execution_count": 18,
      "metadata": {
        "id": "dy-qb_rRjbzf",
        "outputId": "d0cf8cc4-4b84-4317-bb7d-8462fc0b500c"
      },
      "outputs": [
        {
          "name": "stderr",
          "output_type": "stream",
          "text": [
            "C:\\Users\\HP\\AppData\\Local\\Temp\\ipykernel_4288\\3751482550.py:2: SettingWithCopyWarning: \n",
            "A value is trying to be set on a copy of a slice from a DataFrame.\n",
            "Try using .loc[row_indexer,col_indexer] = value instead\n",
            "\n",
            "See the caveats in the documentation: https://pandas.pydata.org/pandas-docs/stable/user_guide/indexing.html#returning-a-view-versus-a-copy\n",
            "  X['intercept'] = 1\n"
          ]
        },
        {
          "data": {
            "text/html": [
              "<div>\n",
              "<style scoped>\n",
              "    .dataframe tbody tr th:only-of-type {\n",
              "        vertical-align: middle;\n",
              "    }\n",
              "\n",
              "    .dataframe tbody tr th {\n",
              "        vertical-align: top;\n",
              "    }\n",
              "\n",
              "    .dataframe thead th {\n",
              "        text-align: right;\n",
              "    }\n",
              "</style>\n",
              "<table border=\"1\" class=\"dataframe\">\n",
              "  <thead>\n",
              "    <tr style=\"text-align: right;\">\n",
              "      <th></th>\n",
              "      <th>intercept</th>\n",
              "      <th>area</th>\n",
              "      <th>bedrooms</th>\n",
              "    </tr>\n",
              "  </thead>\n",
              "  <tbody>\n",
              "    <tr>\n",
              "      <th>0</th>\n",
              "      <td>1</td>\n",
              "      <td>1.045766</td>\n",
              "      <td>1.402131</td>\n",
              "    </tr>\n",
              "    <tr>\n",
              "      <th>1</th>\n",
              "      <td>1</td>\n",
              "      <td>1.755397</td>\n",
              "      <td>1.402131</td>\n",
              "    </tr>\n",
              "    <tr>\n",
              "      <th>2</th>\n",
              "      <td>1</td>\n",
              "      <td>2.216196</td>\n",
              "      <td>0.047235</td>\n",
              "    </tr>\n",
              "    <tr>\n",
              "      <th>3</th>\n",
              "      <td>1</td>\n",
              "      <td>1.082630</td>\n",
              "      <td>1.402131</td>\n",
              "    </tr>\n",
              "    <tr>\n",
              "      <th>4</th>\n",
              "      <td>1</td>\n",
              "      <td>1.045766</td>\n",
              "      <td>1.402131</td>\n",
              "    </tr>\n",
              "  </tbody>\n",
              "</table>\n",
              "</div>"
            ],
            "text/plain": [
              "   intercept      area  bedrooms\n",
              "0          1  1.045766  1.402131\n",
              "1          1  1.755397  1.402131\n",
              "2          1  2.216196  0.047235\n",
              "3          1  1.082630  1.402131\n",
              "4          1  1.045766  1.402131"
            ]
          },
          "execution_count": 18,
          "metadata": {},
          "output_type": "execute_result"
        }
      ],
      "source": [
        "# Add a column of ones as intercept\n",
        "X['intercept'] = 1\n",
        "\n",
        "#reindex columns in sequence:- 'intercept','area' and 'bedrooms'\n",
        "X = X.reindex(['intercept','area', 'bedrooms'],axis=1)\n",
        "\n",
        "#print head of X\n",
        "X.head()\n",
        "\n"
      ]
    },
    {
      "cell_type": "code",
      "execution_count": 20,
      "metadata": {
        "id": "pNGeQtDrjbzf"
      },
      "outputs": [],
      "source": [
        "# Convert X and y to numpy arrays\n",
        "X = np.array(X)\n",
        "\n",
        "y = np.array(y)\n"
      ]
    },
    {
      "cell_type": "markdown",
      "metadata": {
        "id": "tCmboXvgjbzf"
      },
      "source": [
        "4. Initiate the theta values. I am initiating them as zeros. But any other number should be alright."
      ]
    },
    {
      "cell_type": "code",
      "execution_count": 21,
      "metadata": {
        "id": "_rWt2BFLjbzg"
      },
      "outputs": [],
      "source": [
        "# initiate theta values with array of zeroes equal to number of columns present in X\n",
        "theta = np.array([0]*X.shape[1])\n"
      ]
    },
    {
      "cell_type": "markdown",
      "metadata": {
        "id": "JVAmzpeWjbzg"
      },
      "source": [
        "2. Cost function in  Multiple linear regression\n",
        "\n",
        "![image.png](attachment:image.png)"
      ]
    },
    {
      "cell_type": "code",
      "execution_count": 22,
      "metadata": {
        "id": "EAR55pthjbzg"
      },
      "outputs": [],
      "source": [
        "# Initialise m as no.of samples in X\n",
        "m=len(X)\n"
      ]
    },
    {
      "cell_type": "markdown",
      "metadata": {
        "id": "j1Z286_Tjbzg"
      },
      "source": [
        "Note: \n",
        "You can make use matmul function https://numpy.org/doc/stable/reference/generated/numpy.matmul.html for multiplying all theta values with X to implement above cost function formula"
      ]
    },
    {
      "cell_type": "code",
      "execution_count": null,
      "metadata": {
        "id": "tWldUFCmjbzg"
      },
      "outputs": [],
      "source": [
        "# def theta_cost(X,y, theta):\n",
        "    \n",
        "#     cost=np.sum(np.square(np.matmul(X, theta) - y)) / (2 * m)\n",
        "#     return cost"
      ]
    },
    {
      "cell_type": "markdown",
      "metadata": {
        "id": "uIe77fQ7jbzg"
      },
      "source": [
        "Now our next part is to update the theta values. We take the partial differential of the cost function with respect to each theta value and deduct that value from the existing theta value,\n",
        "\n",
        "![image.png](attachment:image.png)\n",
        "\n",
        "Here, alpha is the learning rate and it is a constant. I am not showing the same formula for all the theta values. But It is the same formula for all the theta values. After the differentiation, the formula comes out to be:\n",
        "\n",
        "![image-2.png](attachment:image-2.png)\n",
        "This is how we are updating bias and intercept accordingly in order to minimize cost function. This is called gradient descent."
      ]
    },
    {
      "cell_type": "code",
      "execution_count": 23,
      "metadata": {
        "id": "WRPB4C_Pjbzg"
      },
      "outputs": [],
      "source": [
        "# Create an empty dataframe with columns theta and cost\n",
        "gdm_df2 = pd.DataFrame(columns=['theta','cost'])\n"
      ]
    },
    {
      "cell_type": "markdown",
      "metadata": {
        "id": "ODODvqLqnP1H"
      },
      "source": [
        "Now since you are aware of all formulas and method to implement gradient descent. Lets apply it here.\n",
        "\n",
        "## **`Watch Video 2 : Gradient Descent on Linear Regression`**\n",
        "**`File used:`* https://drive.google.com/file/d/1w1VbgPKkbqjFcZQLkO_xoiUqYhAzERj2/view?usp=sharing"
      ]
    },
    {
      "cell_type": "code",
      "execution_count": 25,
      "metadata": {
        "id": "W8tdDwxxjbzh",
        "outputId": "260849b1-1120-4c7d-ee3c-3776437179da"
      },
      "outputs": [
        {
          "data": {
            "text/html": [
              "<div>\n",
              "<style scoped>\n",
              "    .dataframe tbody tr th:only-of-type {\n",
              "        vertical-align: middle;\n",
              "    }\n",
              "\n",
              "    .dataframe tbody tr th {\n",
              "        vertical-align: top;\n",
              "    }\n",
              "\n",
              "    .dataframe thead th {\n",
              "        text-align: right;\n",
              "    }\n",
              "</style>\n",
              "<table border=\"1\" class=\"dataframe\">\n",
              "  <thead>\n",
              "    <tr style=\"text-align: right;\">\n",
              "      <th></th>\n",
              "      <th>theta</th>\n",
              "      <th>cost</th>\n",
              "    </tr>\n",
              "  </thead>\n",
              "  <tbody>\n",
              "    <tr>\n",
              "      <th>0</th>\n",
              "      <td>[3.976431823978542e-18, 0.010641328951860785, ...</td>\n",
              "      <td>0.490824</td>\n",
              "    </tr>\n",
              "    <tr>\n",
              "      <th>1</th>\n",
              "      <td>[4.567192699467158e-18, 0.015874226967184067, ...</td>\n",
              "      <td>0.486834</td>\n",
              "    </tr>\n",
              "    <tr>\n",
              "      <th>2</th>\n",
              "      <td>[5.858718199673304e-18, 0.02104948137493464, 0...</td>\n",
              "      <td>0.482935</td>\n",
              "    </tr>\n",
              "    <tr>\n",
              "      <th>3</th>\n",
              "      <td>[7.696188233089618e-18, 0.02616773358401028, 0...</td>\n",
              "      <td>0.479124</td>\n",
              "    </tr>\n",
              "    <tr>\n",
              "      <th>4</th>\n",
              "      <td>[9.594771460521995e-18, 0.031229617809450765, ...</td>\n",
              "      <td>0.475400</td>\n",
              "    </tr>\n",
              "    <tr>\n",
              "      <th>...</th>\n",
              "      <td>...</td>\n",
              "      <td>...</td>\n",
              "    </tr>\n",
              "    <tr>\n",
              "      <th>995</th>\n",
              "      <td>[3.171571058786979e-16, 0.49165609672441335, 0...</td>\n",
              "      <td>0.314176</td>\n",
              "    </tr>\n",
              "    <tr>\n",
              "      <th>996</th>\n",
              "      <td>[3.1670486824297904e-16, 0.49165631727115444, ...</td>\n",
              "      <td>0.314176</td>\n",
              "    </tr>\n",
              "    <tr>\n",
              "      <th>997</th>\n",
              "      <td>[3.165663450032093e-16, 0.49165653581645713, 0...</td>\n",
              "      <td>0.314176</td>\n",
              "    </tr>\n",
              "    <tr>\n",
              "      <th>998</th>\n",
              "      <td>[3.1794342897503793e-16, 0.4916567523788097, 0...</td>\n",
              "      <td>0.314176</td>\n",
              "    </tr>\n",
              "    <tr>\n",
              "      <th>999</th>\n",
              "      <td>[3.173485938866149e-16, 0.49165696697652606, 0...</td>\n",
              "      <td>0.314176</td>\n",
              "    </tr>\n",
              "  </tbody>\n",
              "</table>\n",
              "<p>1000 rows × 2 columns</p>\n",
              "</div>"
            ],
            "text/plain": [
              "                                                 theta      cost\n",
              "0    [3.976431823978542e-18, 0.010641328951860785, ...  0.490824\n",
              "1    [4.567192699467158e-18, 0.015874226967184067, ...  0.486834\n",
              "2    [5.858718199673304e-18, 0.02104948137493464, 0...  0.482935\n",
              "3    [7.696188233089618e-18, 0.02616773358401028, 0...  0.479124\n",
              "4    [9.594771460521995e-18, 0.031229617809450765, ...  0.475400\n",
              "..                                                 ...       ...\n",
              "995  [3.171571058786979e-16, 0.49165609672441335, 0...  0.314176\n",
              "996  [3.1670486824297904e-16, 0.49165631727115444, ...  0.314176\n",
              "997  [3.165663450032093e-16, 0.49165653581645713, 0...  0.314176\n",
              "998  [3.1794342897503793e-16, 0.4916567523788097, 0...  0.314176\n",
              "999  [3.173485938866149e-16, 0.49165696697652606, 0...  0.314176\n",
              "\n",
              "[1000 rows x 2 columns]"
            ]
          },
          "execution_count": 25,
          "metadata": {},
          "output_type": "execute_result"
        }
      ],
      "source": [
        "# Define alpha/ learning rate (here 0.01)\n",
        "alpha = 0.01\n",
        "\n",
        "#intialise iterations to 1000\n",
        "iterations = 1000\n",
        "\n",
        "# iterate over number of iterations\n",
        "for i in range(iterations):\n",
        "    #calculate the derivative of each theta value/ coefficients \n",
        "    gradient = (1/m)*np.matmul(X.T,np.matmul(X,theta)-y)\n",
        "    \n",
        "    #update the theta value according to the formula after differentiation\n",
        "    theta = theta - alpha * gradient\n",
        "    \n",
        "    #calculate the hypothesis by multiplying X with theta values (Hint: Use numpy matmul())\n",
        "    h=np.matmul(X,theta)\n",
        "    \n",
        "    #calculate cost function\n",
        "    cost = np.sum(np.square(h-y))/(2*len(y))\n",
        "    \n",
        "    #append rows in gdm_df with updated theta and cost value\n",
        "    \n",
        "    gdm_df2.loc[i]=[theta,cost]\n",
        "\n",
        "# print gdm_df\n",
        "gdm_df2\n"
      ]
    },
    {
      "cell_type": "code",
      "execution_count": 26,
      "metadata": {
        "id": "jndWlEFejbzh",
        "outputId": "399e35be-0d85-402d-cf9a-01f74d97564d"
      },
      "outputs": [
        {
          "data": {
            "text/plain": [
              "[]"
            ]
          },
          "execution_count": 26,
          "metadata": {},
          "output_type": "execute_result"
        },
        {
          "data": {
            "image/png": "[encoded data removed]",
            "text/plain": [
              "<Figure size 640x480 with 1 Axes>"
            ]
          },
          "metadata": {},
          "output_type": "display_data"
        }
      ],
      "source": [
        "# plotting cost against num_iterations\n",
        "plt.plot(gd_df.index,gd_df['cost'])\n",
        "plt.plot()"
      ]
    },
    {
      "cell_type": "markdown",
      "metadata": {
        "id": "eUDANlizjbzh"
      },
      "source": [
        "Above is a plot of all of the values for the cost function over the 1000 iterations that you should see. I think that 100 iterations or 100 epochs is a nice round number and a good place to stop in case of multiple regression problem aswell, because in graph you can see that error becomes constant after 100th iteration. You could keep going if you wanted.\n",
        "\n",
        "\n",
        "Now you have just tried out gradient descent on just 1 to 2 input variables. You can also try on multiple linear regression with more than 2 variables as well. So what are you waiting for? explore more and have happy learning with us."
      ]
    },
    {
      "cell_type": "markdown",
      "metadata": {
        "id": "K3UQxPB5jbzh"
      },
      "source": [
        "------------------------------\n",
        "\n",
        "# Awesome! Congratulations you have optimized your Regression problem!\n",
        "-------------------------------------\n",
        "\n",
        "# Its Feedback Time!\n",
        "\n",
        "We hope you’ve enjoyed this course so far. We’re committed to help you use \"AI for All\" course to its full potential, so that you have a great learning experience. And that’s why we need your help in form of a feedback here.\n",
        "\n",
        "**Please fill this feedback form**\n",
        " https://zfrmz.in/MtRG5oWXBdesm6rmSM7N"
      ]
    }
  ],
  "metadata": {
    "colab": {
      "collapsed_sections": [],
      "provenance": []
    },
    "kernelspec": {
      "display_name": "Python 3",
      "language": "python",
      "name": "python3"
    },
    "language_info": {
      "codemirror_mode": {
        "name": "ipython",
        "version": 3
      },
      "file_extension": ".py",
      "mimetype": "text/x-python",
      "name": "python",
      "nbconvert_exporter": "python",
      "pygments_lexer": "ipython3",
      "version": "3.11.0 (main, Oct 24 2022, 18:26:48) [MSC v.1933 64 bit (AMD64)]"
    },
    "latex_envs": {
      "LaTeX_envs_menu_present": true,
      "autoclose": false,
      "autocomplete": true,
      "bibliofile": "biblio.bib",
      "cite_by": "apalike",
      "current_citInitial": 1,
      "eqLabelWithNumbers": true,
      "eqNumInitial": 1,
      "hotkeys": {
        "equation": "Ctrl-E",
        "itemize": "Ctrl-I"
      },
      "labels_anchors": false,
      "latex_user_defs": false,
      "report_style_numbering": false,
      "user_envs_cfg": false
    },
    "vscode": {
      "interpreter": {
        "hash": "1f6a27bcfbe46a917dbd192f4a82657396dda26148bae633192e8d28c70725f1"
      }
    }
  },
  "nbformat": 4,
  "nbformat_minor": 0
}
